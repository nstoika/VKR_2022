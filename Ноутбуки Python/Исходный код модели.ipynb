{
  "nbformat": 4,
  "nbformat_minor": 0,
  "metadata": {
    "colab": {
      "name": "Модели",
      "provenance": [],
      "collapsed_sections": []
    },
    "kernelspec": {
      "name": "python3",
      "display_name": "Python 3"
    },
    "language_info": {
      "name": "python"
    }
  },
  "cells": [
    {
      "cell_type": "markdown",
      "source": [
        "## Импорт"
      ],
      "metadata": {
        "id": "pXUdP6AzucTt"
      }
    },
    {
      "cell_type": "code",
      "execution_count": null,
      "metadata": {
        "id": "6DYCuf60ayR_"
      },
      "outputs": [],
      "source": [
        "import numpy as np\n",
        "import pandas as pd\n",
        "import matplotlib as mpl\n",
        "import matplotlib.pyplot as plt\n",
        "import seaborn as sns\n",
        "import sklearn\n",
        "!pip install -q seaborn\n",
        "np.set_printoptions(precision=3, suppress=True)\n",
        "\n",
        "%matplotlib inline\n"
      ]
    },
    {
      "cell_type": "markdown",
      "source": [
        "##Загрузка данных"
      ],
      "metadata": {
        "id": "XISFONaeuXY6"
      }
    },
    {
      "cell_type": "code",
      "source": [
        "df = pd.read_csv('/content/drive/MyDrive/data_norm.csv', index_col=0)\n"
      ],
      "metadata": {
        "id": "0Q9sgbb-a0rB"
      },
      "execution_count": null,
      "outputs": []
    },
    {
      "cell_type": "code",
      "source": [
        "import tensorflow as tf\n",
        "\n",
        "from tensorflow import keras\n",
        "from tensorflow.keras import layers\n",
        "from keras.layers import Dropout\n",
        "print(tf.__version__)"
      ],
      "metadata": {
        "colab": {
          "base_uri": "https://localhost:8080/"
        },
        "id": "XV3tHZUsAufD",
        "outputId": "73d520b6-1793-4644-9f53-7e20bfa10bbc"
      },
      "execution_count": null,
      "outputs": [
        {
          "output_type": "stream",
          "name": "stdout",
          "text": [
            "2.8.2\n"
          ]
        }
      ]
    },
    {
      "cell_type": "markdown",
      "source": [
        "## Разделение выборки на train и test"
      ],
      "metadata": {
        "id": "zBzrljLfCcDd"
      }
    },
    {
      "cell_type": "code",
      "source": [
        "train_dataset = df.sample(frac=0.7, random_state=42)\n",
        "test_dataset = df.drop(train_dataset.index)"
      ],
      "metadata": {
        "id": "R4s-LD4zBV24"
      },
      "execution_count": null,
      "outputs": []
    },
    {
      "cell_type": "markdown",
      "source": [
        "## Отделим целевое значение от входящих"
      ],
      "metadata": {
        "id": "k4de6tQaac6h"
      }
    },
    {
      "cell_type": "code",
      "source": [
        "train_features = train_dataset.copy()\n",
        "test_features = test_dataset.copy()\n",
        "\n",
        "train_labels = train_features.pop('Прочность при растяжении. МПа')\n",
        "test_labels = test_features.pop('Прочность при растяжении. МПа')"
      ],
      "metadata": {
        "id": "XvbYlxKXBtNf"
      },
      "execution_count": null,
      "outputs": []
    },
    {
      "cell_type": "code",
      "source": [
        "train_dataset.describe().transpose()[['mean', 'std']]"
      ],
      "metadata": {
        "colab": {
          "base_uri": "https://localhost:8080/",
          "height": 457
        },
        "id": "hugKUjfBapQT",
        "outputId": "2a96a16f-5496-4ad3-8d24-9098f9c30f90"
      },
      "execution_count": null,
      "outputs": [
        {
          "output_type": "execute_result",
          "data": {
            "text/plain": [
              "                                          mean       std\n",
              "Прочность при растяжении. МПа         0.508302  0.164622\n",
              "Соотношение матрица-наполнитель       0.486475  0.169407\n",
              "Количество отвердителя. м.%           0.509151  0.151012\n",
              "Содержание эпоксидных групп.%_2       0.423179  0.127015\n",
              "Потребление смолы. г/м2               0.479778  0.152716\n",
              "Угол нашивки. град                    0.497710  0.500377\n",
              "Шаг нашивки                           0.479948  0.174186\n",
              "Плотность нашивки                     0.551918  0.109145\n",
              "модуль упругости. ГПа                 0.388002  0.175565\n",
              "Плотность. кг/м3                      0.506082  0.149064\n",
              "Температура вспышки. С_2              0.598142  0.123862\n",
              "Поверхностная плотность. г/м2         0.346893  0.203120\n",
              "Модуль упругости при растяжении. ГПа  0.499217  0.165159"
            ],
            "text/html": [
              "\n",
              "  <div id=\"df-0f0aab6a-7589-437b-9bda-4b72202285bf\">\n",
              "    <div class=\"colab-df-container\">\n",
              "      <div>\n",
              "<style scoped>\n",
              "    .dataframe tbody tr th:only-of-type {\n",
              "        vertical-align: middle;\n",
              "    }\n",
              "\n",
              "    .dataframe tbody tr th {\n",
              "        vertical-align: top;\n",
              "    }\n",
              "\n",
              "    .dataframe thead th {\n",
              "        text-align: right;\n",
              "    }\n",
              "</style>\n",
              "<table border=\"1\" class=\"dataframe\">\n",
              "  <thead>\n",
              "    <tr style=\"text-align: right;\">\n",
              "      <th></th>\n",
              "      <th>mean</th>\n",
              "      <th>std</th>\n",
              "    </tr>\n",
              "  </thead>\n",
              "  <tbody>\n",
              "    <tr>\n",
              "      <th>Прочность при растяжении. МПа</th>\n",
              "      <td>0.508302</td>\n",
              "      <td>0.164622</td>\n",
              "    </tr>\n",
              "    <tr>\n",
              "      <th>Соотношение матрица-наполнитель</th>\n",
              "      <td>0.486475</td>\n",
              "      <td>0.169407</td>\n",
              "    </tr>\n",
              "    <tr>\n",
              "      <th>Количество отвердителя. м.%</th>\n",
              "      <td>0.509151</td>\n",
              "      <td>0.151012</td>\n",
              "    </tr>\n",
              "    <tr>\n",
              "      <th>Содержание эпоксидных групп.%_2</th>\n",
              "      <td>0.423179</td>\n",
              "      <td>0.127015</td>\n",
              "    </tr>\n",
              "    <tr>\n",
              "      <th>Потребление смолы. г/м2</th>\n",
              "      <td>0.479778</td>\n",
              "      <td>0.152716</td>\n",
              "    </tr>\n",
              "    <tr>\n",
              "      <th>Угол нашивки. град</th>\n",
              "      <td>0.497710</td>\n",
              "      <td>0.500377</td>\n",
              "    </tr>\n",
              "    <tr>\n",
              "      <th>Шаг нашивки</th>\n",
              "      <td>0.479948</td>\n",
              "      <td>0.174186</td>\n",
              "    </tr>\n",
              "    <tr>\n",
              "      <th>Плотность нашивки</th>\n",
              "      <td>0.551918</td>\n",
              "      <td>0.109145</td>\n",
              "    </tr>\n",
              "    <tr>\n",
              "      <th>модуль упругости. ГПа</th>\n",
              "      <td>0.388002</td>\n",
              "      <td>0.175565</td>\n",
              "    </tr>\n",
              "    <tr>\n",
              "      <th>Плотность. кг/м3</th>\n",
              "      <td>0.506082</td>\n",
              "      <td>0.149064</td>\n",
              "    </tr>\n",
              "    <tr>\n",
              "      <th>Температура вспышки. С_2</th>\n",
              "      <td>0.598142</td>\n",
              "      <td>0.123862</td>\n",
              "    </tr>\n",
              "    <tr>\n",
              "      <th>Поверхностная плотность. г/м2</th>\n",
              "      <td>0.346893</td>\n",
              "      <td>0.203120</td>\n",
              "    </tr>\n",
              "    <tr>\n",
              "      <th>Модуль упругости при растяжении. ГПа</th>\n",
              "      <td>0.499217</td>\n",
              "      <td>0.165159</td>\n",
              "    </tr>\n",
              "  </tbody>\n",
              "</table>\n",
              "</div>\n",
              "      <button class=\"colab-df-convert\" onclick=\"convertToInteractive('df-0f0aab6a-7589-437b-9bda-4b72202285bf')\"\n",
              "              title=\"Convert this dataframe to an interactive table.\"\n",
              "              style=\"display:none;\">\n",
              "        \n",
              "  <svg xmlns=\"http://www.w3.org/2000/svg\" height=\"24px\"viewBox=\"0 0 24 24\"\n",
              "       width=\"24px\">\n",
              "    <path d=\"M0 0h24v24H0V0z\" fill=\"none\"/>\n",
              "    <path d=\"M18.56 5.44l.94 2.06.94-2.06 2.06-.94-2.06-.94-.94-2.06-.94 2.06-2.06.94zm-11 1L8.5 8.5l.94-2.06 2.06-.94-2.06-.94L8.5 2.5l-.94 2.06-2.06.94zm10 10l.94 2.06.94-2.06 2.06-.94-2.06-.94-.94-2.06-.94 2.06-2.06.94z\"/><path d=\"M17.41 7.96l-1.37-1.37c-.4-.4-.92-.59-1.43-.59-.52 0-1.04.2-1.43.59L10.3 9.45l-7.72 7.72c-.78.78-.78 2.05 0 2.83L4 21.41c.39.39.9.59 1.41.59.51 0 1.02-.2 1.41-.59l7.78-7.78 2.81-2.81c.8-.78.8-2.07 0-2.86zM5.41 20L4 18.59l7.72-7.72 1.47 1.35L5.41 20z\"/>\n",
              "  </svg>\n",
              "      </button>\n",
              "      \n",
              "  <style>\n",
              "    .colab-df-container {\n",
              "      display:flex;\n",
              "      flex-wrap:wrap;\n",
              "      gap: 12px;\n",
              "    }\n",
              "\n",
              "    .colab-df-convert {\n",
              "      background-color: #E8F0FE;\n",
              "      border: none;\n",
              "      border-radius: 50%;\n",
              "      cursor: pointer;\n",
              "      display: none;\n",
              "      fill: #1967D2;\n",
              "      height: 32px;\n",
              "      padding: 0 0 0 0;\n",
              "      width: 32px;\n",
              "    }\n",
              "\n",
              "    .colab-df-convert:hover {\n",
              "      background-color: #E2EBFA;\n",
              "      box-shadow: 0px 1px 2px rgba(60, 64, 67, 0.3), 0px 1px 3px 1px rgba(60, 64, 67, 0.15);\n",
              "      fill: #174EA6;\n",
              "    }\n",
              "\n",
              "    [theme=dark] .colab-df-convert {\n",
              "      background-color: #3B4455;\n",
              "      fill: #D2E3FC;\n",
              "    }\n",
              "\n",
              "    [theme=dark] .colab-df-convert:hover {\n",
              "      background-color: #434B5C;\n",
              "      box-shadow: 0px 1px 3px 1px rgba(0, 0, 0, 0.15);\n",
              "      filter: drop-shadow(0px 1px 2px rgba(0, 0, 0, 0.3));\n",
              "      fill: #FFFFFF;\n",
              "    }\n",
              "  </style>\n",
              "\n",
              "      <script>\n",
              "        const buttonEl =\n",
              "          document.querySelector('#df-0f0aab6a-7589-437b-9bda-4b72202285bf button.colab-df-convert');\n",
              "        buttonEl.style.display =\n",
              "          google.colab.kernel.accessAllowed ? 'block' : 'none';\n",
              "\n",
              "        async function convertToInteractive(key) {\n",
              "          const element = document.querySelector('#df-0f0aab6a-7589-437b-9bda-4b72202285bf');\n",
              "          const dataTable =\n",
              "            await google.colab.kernel.invokeFunction('convertToInteractive',\n",
              "                                                     [key], {});\n",
              "          if (!dataTable) return;\n",
              "\n",
              "          const docLinkHtml = 'Like what you see? Visit the ' +\n",
              "            '<a target=\"_blank\" href=https://colab.research.google.com/notebooks/data_table.ipynb>data table notebook</a>'\n",
              "            + ' to learn more about interactive tables.';\n",
              "          element.innerHTML = '';\n",
              "          dataTable['output_type'] = 'display_data';\n",
              "          await google.colab.output.renderOutput(dataTable, element);\n",
              "          const docLink = document.createElement('div');\n",
              "          docLink.innerHTML = docLinkHtml;\n",
              "          element.appendChild(docLink);\n",
              "        }\n",
              "      </script>\n",
              "    </div>\n",
              "  </div>\n",
              "  "
            ]
          },
          "metadata": {},
          "execution_count": 137
        }
      ]
    },
    {
      "cell_type": "markdown",
      "source": [
        "## Нормализуем входящие значения"
      ],
      "metadata": {
        "id": "pxwPWH3KbM9Q"
      }
    },
    {
      "cell_type": "code",
      "source": [
        "#Создаем слой нормализации\n",
        "normalizer = tf.keras.layers.Normalization(axis=-1)"
      ],
      "metadata": {
        "id": "mj7n19JzCK0H"
      },
      "execution_count": null,
      "outputs": []
    },
    {
      "cell_type": "code",
      "source": [
        "#Препроцессинг данных\n",
        "normalizer.adapt(np.array(train_features))"
      ],
      "metadata": {
        "id": "tcDskGQuCMhO"
      },
      "execution_count": null,
      "outputs": []
    },
    {
      "cell_type": "code",
      "source": [
        "print(normalizer.mean.numpy())"
      ],
      "metadata": {
        "colab": {
          "base_uri": "https://localhost:8080/"
        },
        "id": "BILHjqfQCPof",
        "outputId": "1fbafbeb-e9df-4694-db29-eb3ff4ba5fd3"
      },
      "execution_count": null,
      "outputs": [
        {
          "output_type": "stream",
          "name": "stdout",
          "text": [
            "[[0.486 0.509 0.423 0.48  0.498 0.48  0.552 0.388 0.506 0.598 0.347 0.499]]\n"
          ]
        }
      ]
    },
    {
      "cell_type": "code",
      "source": [
        "df.describe()\n"
      ],
      "metadata": {
        "colab": {
          "base_uri": "https://localhost:8080/",
          "height": 379
        },
        "id": "LWItm797WJnp",
        "outputId": "92d3f9e1-d765-41b5-b227-a10a7b63a4b7"
      },
      "execution_count": null,
      "outputs": [
        {
          "output_type": "execute_result",
          "data": {
            "text/plain": [
              "       Прочность при растяжении. МПа  Соотношение матрица-наполнитель  \\\n",
              "count                     936.000000                       936.000000   \n",
              "mean                        0.508836                         0.487527   \n",
              "std                         0.164974                         0.171790   \n",
              "min                         0.075949                         0.030369   \n",
              "25%                         0.394824                         0.371473   \n",
              "50%                         0.505446                         0.483499   \n",
              "75%                         0.611156                         0.606890   \n",
              "max                         0.949223                         0.946640   \n",
              "\n",
              "       Количество отвердителя. м.%  Содержание эпоксидных групп.%_2  \\\n",
              "count                   936.000000                       936.000000   \n",
              "mean                      0.514179                         0.424329   \n",
              "std                       0.149205                         0.127760   \n",
              "min                       0.115490                         0.076869   \n",
              "25%                       0.412683                         0.336971   \n",
              "50%                       0.515266                         0.423031   \n",
              "75%                       0.619499                         0.517835   \n",
              "max                       0.905499                         0.784214   \n",
              "\n",
              "       Потребление смолы. г/м2  Угол нашивки. град  Шаг нашивки  \\\n",
              "count               936.000000          936.000000   936.000000   \n",
              "mean                  0.482711            0.511752     0.478901   \n",
              "std                   0.151862            0.500129     0.173794   \n",
              "min                   0.078476            0.000000     0.002606   \n",
              "25%                   0.382591            0.000000     0.355596   \n",
              "50%                   0.484747            1.000000     0.480823   \n",
              "75%                   0.584561            1.000000     0.594954   \n",
              "max                   0.854149            1.000000     0.950963   \n",
              "\n",
              "       Плотность нашивки  модуль упругости. ГПа  Плотность. кг/м3  \\\n",
              "count         936.000000             936.000000        936.000000   \n",
              "mean            0.552481               0.385423          0.508972   \n",
              "std             0.108082               0.172180          0.148754   \n",
              "min             0.262268               0.000000          0.110749   \n",
              "25%             0.482837               0.259882          0.402680   \n",
              "50%             0.553754               0.385679          0.515733   \n",
              "75%             0.623126               0.500750          0.605859   \n",
              "max             0.827131               0.862699          0.902926   \n",
              "\n",
              "       Температура вспышки. С_2  Поверхностная плотность. г/м2  \\\n",
              "count                936.000000                     936.000000   \n",
              "mean                   0.593860                       0.344826   \n",
              "std                    0.125771                       0.200288   \n",
              "min                    0.253371                       0.000000   \n",
              "25%                    0.508133                       0.189716   \n",
              "50%                    0.593808                       0.326768   \n",
              "75%                    0.679890                       0.497018   \n",
              "max                    0.913158                       0.922654   \n",
              "\n",
              "       Модуль упругости при растяжении. ГПа  \n",
              "count                            936.000000  \n",
              "mean                               0.496622  \n",
              "std                                0.163055  \n",
              "min                                0.080485  \n",
              "25%                                0.386234  \n",
              "50%                                0.494158  \n",
              "75%                                0.604291  \n",
              "max                                0.932095  "
            ],
            "text/html": [
              "\n",
              "  <div id=\"df-24342eba-bcdd-421c-9517-c76f8957dc8c\">\n",
              "    <div class=\"colab-df-container\">\n",
              "      <div>\n",
              "<style scoped>\n",
              "    .dataframe tbody tr th:only-of-type {\n",
              "        vertical-align: middle;\n",
              "    }\n",
              "\n",
              "    .dataframe tbody tr th {\n",
              "        vertical-align: top;\n",
              "    }\n",
              "\n",
              "    .dataframe thead th {\n",
              "        text-align: right;\n",
              "    }\n",
              "</style>\n",
              "<table border=\"1\" class=\"dataframe\">\n",
              "  <thead>\n",
              "    <tr style=\"text-align: right;\">\n",
              "      <th></th>\n",
              "      <th>Прочность при растяжении. МПа</th>\n",
              "      <th>Соотношение матрица-наполнитель</th>\n",
              "      <th>Количество отвердителя. м.%</th>\n",
              "      <th>Содержание эпоксидных групп.%_2</th>\n",
              "      <th>Потребление смолы. г/м2</th>\n",
              "      <th>Угол нашивки. град</th>\n",
              "      <th>Шаг нашивки</th>\n",
              "      <th>Плотность нашивки</th>\n",
              "      <th>модуль упругости. ГПа</th>\n",
              "      <th>Плотность. кг/м3</th>\n",
              "      <th>Температура вспышки. С_2</th>\n",
              "      <th>Поверхностная плотность. г/м2</th>\n",
              "      <th>Модуль упругости при растяжении. ГПа</th>\n",
              "    </tr>\n",
              "  </thead>\n",
              "  <tbody>\n",
              "    <tr>\n",
              "      <th>count</th>\n",
              "      <td>936.000000</td>\n",
              "      <td>936.000000</td>\n",
              "      <td>936.000000</td>\n",
              "      <td>936.000000</td>\n",
              "      <td>936.000000</td>\n",
              "      <td>936.000000</td>\n",
              "      <td>936.000000</td>\n",
              "      <td>936.000000</td>\n",
              "      <td>936.000000</td>\n",
              "      <td>936.000000</td>\n",
              "      <td>936.000000</td>\n",
              "      <td>936.000000</td>\n",
              "      <td>936.000000</td>\n",
              "    </tr>\n",
              "    <tr>\n",
              "      <th>mean</th>\n",
              "      <td>0.508836</td>\n",
              "      <td>0.487527</td>\n",
              "      <td>0.514179</td>\n",
              "      <td>0.424329</td>\n",
              "      <td>0.482711</td>\n",
              "      <td>0.511752</td>\n",
              "      <td>0.478901</td>\n",
              "      <td>0.552481</td>\n",
              "      <td>0.385423</td>\n",
              "      <td>0.508972</td>\n",
              "      <td>0.593860</td>\n",
              "      <td>0.344826</td>\n",
              "      <td>0.496622</td>\n",
              "    </tr>\n",
              "    <tr>\n",
              "      <th>std</th>\n",
              "      <td>0.164974</td>\n",
              "      <td>0.171790</td>\n",
              "      <td>0.149205</td>\n",
              "      <td>0.127760</td>\n",
              "      <td>0.151862</td>\n",
              "      <td>0.500129</td>\n",
              "      <td>0.173794</td>\n",
              "      <td>0.108082</td>\n",
              "      <td>0.172180</td>\n",
              "      <td>0.148754</td>\n",
              "      <td>0.125771</td>\n",
              "      <td>0.200288</td>\n",
              "      <td>0.163055</td>\n",
              "    </tr>\n",
              "    <tr>\n",
              "      <th>min</th>\n",
              "      <td>0.075949</td>\n",
              "      <td>0.030369</td>\n",
              "      <td>0.115490</td>\n",
              "      <td>0.076869</td>\n",
              "      <td>0.078476</td>\n",
              "      <td>0.000000</td>\n",
              "      <td>0.002606</td>\n",
              "      <td>0.262268</td>\n",
              "      <td>0.000000</td>\n",
              "      <td>0.110749</td>\n",
              "      <td>0.253371</td>\n",
              "      <td>0.000000</td>\n",
              "      <td>0.080485</td>\n",
              "    </tr>\n",
              "    <tr>\n",
              "      <th>25%</th>\n",
              "      <td>0.394824</td>\n",
              "      <td>0.371473</td>\n",
              "      <td>0.412683</td>\n",
              "      <td>0.336971</td>\n",
              "      <td>0.382591</td>\n",
              "      <td>0.000000</td>\n",
              "      <td>0.355596</td>\n",
              "      <td>0.482837</td>\n",
              "      <td>0.259882</td>\n",
              "      <td>0.402680</td>\n",
              "      <td>0.508133</td>\n",
              "      <td>0.189716</td>\n",
              "      <td>0.386234</td>\n",
              "    </tr>\n",
              "    <tr>\n",
              "      <th>50%</th>\n",
              "      <td>0.505446</td>\n",
              "      <td>0.483499</td>\n",
              "      <td>0.515266</td>\n",
              "      <td>0.423031</td>\n",
              "      <td>0.484747</td>\n",
              "      <td>1.000000</td>\n",
              "      <td>0.480823</td>\n",
              "      <td>0.553754</td>\n",
              "      <td>0.385679</td>\n",
              "      <td>0.515733</td>\n",
              "      <td>0.593808</td>\n",
              "      <td>0.326768</td>\n",
              "      <td>0.494158</td>\n",
              "    </tr>\n",
              "    <tr>\n",
              "      <th>75%</th>\n",
              "      <td>0.611156</td>\n",
              "      <td>0.606890</td>\n",
              "      <td>0.619499</td>\n",
              "      <td>0.517835</td>\n",
              "      <td>0.584561</td>\n",
              "      <td>1.000000</td>\n",
              "      <td>0.594954</td>\n",
              "      <td>0.623126</td>\n",
              "      <td>0.500750</td>\n",
              "      <td>0.605859</td>\n",
              "      <td>0.679890</td>\n",
              "      <td>0.497018</td>\n",
              "      <td>0.604291</td>\n",
              "    </tr>\n",
              "    <tr>\n",
              "      <th>max</th>\n",
              "      <td>0.949223</td>\n",
              "      <td>0.946640</td>\n",
              "      <td>0.905499</td>\n",
              "      <td>0.784214</td>\n",
              "      <td>0.854149</td>\n",
              "      <td>1.000000</td>\n",
              "      <td>0.950963</td>\n",
              "      <td>0.827131</td>\n",
              "      <td>0.862699</td>\n",
              "      <td>0.902926</td>\n",
              "      <td>0.913158</td>\n",
              "      <td>0.922654</td>\n",
              "      <td>0.932095</td>\n",
              "    </tr>\n",
              "  </tbody>\n",
              "</table>\n",
              "</div>\n",
              "      <button class=\"colab-df-convert\" onclick=\"convertToInteractive('df-24342eba-bcdd-421c-9517-c76f8957dc8c')\"\n",
              "              title=\"Convert this dataframe to an interactive table.\"\n",
              "              style=\"display:none;\">\n",
              "        \n",
              "  <svg xmlns=\"http://www.w3.org/2000/svg\" height=\"24px\"viewBox=\"0 0 24 24\"\n",
              "       width=\"24px\">\n",
              "    <path d=\"M0 0h24v24H0V0z\" fill=\"none\"/>\n",
              "    <path d=\"M18.56 5.44l.94 2.06.94-2.06 2.06-.94-2.06-.94-.94-2.06-.94 2.06-2.06.94zm-11 1L8.5 8.5l.94-2.06 2.06-.94-2.06-.94L8.5 2.5l-.94 2.06-2.06.94zm10 10l.94 2.06.94-2.06 2.06-.94-2.06-.94-.94-2.06-.94 2.06-2.06.94z\"/><path d=\"M17.41 7.96l-1.37-1.37c-.4-.4-.92-.59-1.43-.59-.52 0-1.04.2-1.43.59L10.3 9.45l-7.72 7.72c-.78.78-.78 2.05 0 2.83L4 21.41c.39.39.9.59 1.41.59.51 0 1.02-.2 1.41-.59l7.78-7.78 2.81-2.81c.8-.78.8-2.07 0-2.86zM5.41 20L4 18.59l7.72-7.72 1.47 1.35L5.41 20z\"/>\n",
              "  </svg>\n",
              "      </button>\n",
              "      \n",
              "  <style>\n",
              "    .colab-df-container {\n",
              "      display:flex;\n",
              "      flex-wrap:wrap;\n",
              "      gap: 12px;\n",
              "    }\n",
              "\n",
              "    .colab-df-convert {\n",
              "      background-color: #E8F0FE;\n",
              "      border: none;\n",
              "      border-radius: 50%;\n",
              "      cursor: pointer;\n",
              "      display: none;\n",
              "      fill: #1967D2;\n",
              "      height: 32px;\n",
              "      padding: 0 0 0 0;\n",
              "      width: 32px;\n",
              "    }\n",
              "\n",
              "    .colab-df-convert:hover {\n",
              "      background-color: #E2EBFA;\n",
              "      box-shadow: 0px 1px 2px rgba(60, 64, 67, 0.3), 0px 1px 3px 1px rgba(60, 64, 67, 0.15);\n",
              "      fill: #174EA6;\n",
              "    }\n",
              "\n",
              "    [theme=dark] .colab-df-convert {\n",
              "      background-color: #3B4455;\n",
              "      fill: #D2E3FC;\n",
              "    }\n",
              "\n",
              "    [theme=dark] .colab-df-convert:hover {\n",
              "      background-color: #434B5C;\n",
              "      box-shadow: 0px 1px 3px 1px rgba(0, 0, 0, 0.15);\n",
              "      filter: drop-shadow(0px 1px 2px rgba(0, 0, 0, 0.3));\n",
              "      fill: #FFFFFF;\n",
              "    }\n",
              "  </style>\n",
              "\n",
              "      <script>\n",
              "        const buttonEl =\n",
              "          document.querySelector('#df-24342eba-bcdd-421c-9517-c76f8957dc8c button.colab-df-convert');\n",
              "        buttonEl.style.display =\n",
              "          google.colab.kernel.accessAllowed ? 'block' : 'none';\n",
              "\n",
              "        async function convertToInteractive(key) {\n",
              "          const element = document.querySelector('#df-24342eba-bcdd-421c-9517-c76f8957dc8c');\n",
              "          const dataTable =\n",
              "            await google.colab.kernel.invokeFunction('convertToInteractive',\n",
              "                                                     [key], {});\n",
              "          if (!dataTable) return;\n",
              "\n",
              "          const docLinkHtml = 'Like what you see? Visit the ' +\n",
              "            '<a target=\"_blank\" href=https://colab.research.google.com/notebooks/data_table.ipynb>data table notebook</a>'\n",
              "            + ' to learn more about interactive tables.';\n",
              "          element.innerHTML = '';\n",
              "          dataTable['output_type'] = 'display_data';\n",
              "          await google.colab.output.renderOutput(dataTable, element);\n",
              "          const docLink = document.createElement('div');\n",
              "          docLink.innerHTML = docLinkHtml;\n",
              "          element.appendChild(docLink);\n",
              "        }\n",
              "      </script>\n",
              "    </div>\n",
              "  </div>\n",
              "  "
            ]
          },
          "metadata": {},
          "execution_count": 141
        }
      ]
    },
    {
      "cell_type": "markdown",
      "source": [
        "Когда мы вызываем слой нормализации, он выдает массив, где каждая переменная нормализована независимо от других"
      ],
      "metadata": {
        "id": "YVxOgfDccCzd"
      }
    },
    {
      "cell_type": "code",
      "source": [
        "first = np.array(train_features[:1])\n",
        "\n",
        "with np.printoptions(precision=2, suppress=True):\n",
        "  print('First example:', first)\n",
        "  print()\n",
        "  print('Normalized:', normalizer(first).numpy())"
      ],
      "metadata": {
        "colab": {
          "base_uri": "https://localhost:8080/"
        },
        "id": "M7-0yDlScNqJ",
        "outputId": "9c5133d1-2ef7-49a8-e5a4-da8de8be4cda"
      },
      "execution_count": null,
      "outputs": [
        {
          "output_type": "stream",
          "name": "stdout",
          "text": [
            "First example: [[0.48 0.5  0.37 0.44 0.   0.75 0.68 0.35 0.61 0.59 0.38 0.74]]\n",
            "\n",
            "Normalized: [[-0.06 -0.03 -0.44 -0.24 -1.    1.54  1.18 -0.21  0.69 -0.1   0.17  1.45]]\n"
          ]
        }
      ]
    },
    {
      "cell_type": "markdown",
      "source": [
        "##Линейная регрессия для одной переменной. \n",
        "Попробуем предсказать прочность при растяжении в зависимости от количества отвердителя"
      ],
      "metadata": {
        "id": "CVyE_86GJqY5"
      }
    },
    {
      "cell_type": "markdown",
      "source": [
        "Сначала создадим NumPy array, состоящий из значений \"Количество отвердителя\". Затем сопоставим ему tf.keras.layers.Normalization"
      ],
      "metadata": {
        "id": "-l0r_4goLhqu"
      }
    },
    {
      "cell_type": "code",
      "source": [
        "hardener = np.array(train_features['Количество отвердителя. м.%'])\n",
        "\n",
        "hardener_normalizer = layers.Normalization(input_shape=[1,], axis=None)\n",
        "hardener_normalizer.adapt(hardener)"
      ],
      "metadata": {
        "id": "cgBes8LsJoej"
      },
      "execution_count": null,
      "outputs": []
    },
    {
      "cell_type": "markdown",
      "source": [
        "Строим  Keras Sequential модель"
      ],
      "metadata": {
        "id": "9L08RKsFSttH"
      }
    },
    {
      "cell_type": "code",
      "source": [
        "hardener_model = tf.keras.Sequential([\n",
        "    hardener_normalizer,\n",
        "    layers.Dense(units=1)\n",
        "])\n",
        "\n",
        "hardener_model.summary()"
      ],
      "metadata": {
        "colab": {
          "base_uri": "https://localhost:8080/"
        },
        "id": "5cgNLO3LSmrn",
        "outputId": "0a10bc22-aa09-4360-95bc-e5e74e7112b0"
      },
      "execution_count": null,
      "outputs": [
        {
          "output_type": "stream",
          "name": "stdout",
          "text": [
            "Model: \"sequential_10\"\n",
            "_________________________________________________________________\n",
            " Layer (type)                Output Shape              Param #   \n",
            "=================================================================\n",
            " normalization_5 (Normalizat  (None, 1)                3         \n",
            " ion)                                                            \n",
            "                                                                 \n",
            " dense_28 (Dense)            (None, 1)                 2         \n",
            "                                                                 \n",
            "=================================================================\n",
            "Total params: 5\n",
            "Trainable params: 2\n",
            "Non-trainable params: 3\n",
            "_________________________________________________________________\n"
          ]
        }
      ]
    },
    {
      "cell_type": "markdown",
      "source": [
        "Модель предскажет  'Прочность при растяжении' от 'Количества отвердителя'.\n",
        "\n",
        "Запустим необученную модель на 10 значениях 'Количества отвердителя'. Результат будет неудовлетворительный, но мы проверим формат (10, 1):"
      ],
      "metadata": {
        "id": "752ZuTRbTLCU"
      }
    },
    {
      "cell_type": "code",
      "source": [
        "hardener_model.predict(hardener[:10])"
      ],
      "metadata": {
        "colab": {
          "base_uri": "https://localhost:8080/"
        },
        "id": "R6olJw2hTGwz",
        "outputId": "e3e1f913-097f-4652-a608-1bd30d039687"
      },
      "execution_count": null,
      "outputs": [
        {
          "output_type": "execute_result",
          "data": {
            "text/plain": [
              "array([[-0.021],\n",
              "       [-0.489],\n",
              "       [ 0.448],\n",
              "       [-0.194],\n",
              "       [-0.921],\n",
              "       [-0.259],\n",
              "       [-0.042],\n",
              "       [-0.205],\n",
              "       [ 1.676],\n",
              "       [ 0.572]], dtype=float32)"
            ]
          },
          "metadata": {},
          "execution_count": 145
        }
      ]
    },
    {
      "cell_type": "markdown",
      "source": [
        "Модель построена, сконфигурируем обучение методом Keras Model.compile method. Наиболее важные параметры - loss и optimizer. Выбрали, что именно будем оптимизировать ('mean_absolute_error') и как (оптимайзер tf.keras.optimizers.Adam)."
      ],
      "metadata": {
        "id": "-hUboUNeT488"
      }
    },
    {
      "cell_type": "code",
      "source": [
        "hardener_model.compile(\n",
        "    optimizer=tf.optimizers.Adam(learning_rate=0.01),\n",
        "    loss='mean_absolute_error')"
      ],
      "metadata": {
        "id": "JY08t-VnU4zE"
      },
      "execution_count": null,
      "outputs": []
    },
    {
      "cell_type": "markdown",
      "source": [
        "Используем Keras Model.fit чтобы провести обучение за 25 эпох:"
      ],
      "metadata": {
        "id": "t2BXETPkVdig"
      }
    },
    {
      "cell_type": "code",
      "source": [
        "%%time\n",
        "history = hardener_model.fit(\n",
        "    train_features['Количество отвердителя. м.%'],\n",
        "    train_labels,\n",
        "    epochs=25,\n",
        "    # Suppress logging.\n",
        "    verbose=0,\n",
        "    # Calculate validation results on 30% of the training data.\n",
        "    validation_split = 0.5)"
      ],
      "metadata": {
        "colab": {
          "base_uri": "https://localhost:8080/"
        },
        "id": "AVTWboH9VUKo",
        "outputId": "3443956e-993b-4c7f-918a-f85ae0ab5e97"
      },
      "execution_count": null,
      "outputs": [
        {
          "output_type": "stream",
          "name": "stdout",
          "text": [
            "CPU times: user 2.14 s, sys: 114 ms, total: 2.25 s\n",
            "Wall time: 3.06 s\n"
          ]
        }
      ]
    },
    {
      "cell_type": "markdown",
      "source": [
        "## Визуализируем процесс обучения через отображение состояний, сохраненных в  history object:"
      ],
      "metadata": {
        "id": "ge5qzjojV1Mc"
      }
    },
    {
      "cell_type": "code",
      "source": [
        "hist = pd.DataFrame(history.history)\n",
        "hist['epoch'] = history.epoch\n",
        "hist.tail()"
      ],
      "metadata": {
        "colab": {
          "base_uri": "https://localhost:8080/",
          "height": 206
        },
        "id": "AH8__ntkWEG_",
        "outputId": "344192b5-e589-4bee-8a74-c2232c79c3ed"
      },
      "execution_count": null,
      "outputs": [
        {
          "output_type": "execute_result",
          "data": {
            "text/plain": [
              "        loss  val_loss  epoch\n",
              "20  0.132344  0.129535     20\n",
              "21  0.131773  0.130614     21\n",
              "22  0.132365  0.130691     22\n",
              "23  0.131568  0.129827     23\n",
              "24  0.131914  0.130819     24"
            ],
            "text/html": [
              "\n",
              "  <div id=\"df-653c86aa-0dfc-4c77-9278-8bdd38ffdc00\">\n",
              "    <div class=\"colab-df-container\">\n",
              "      <div>\n",
              "<style scoped>\n",
              "    .dataframe tbody tr th:only-of-type {\n",
              "        vertical-align: middle;\n",
              "    }\n",
              "\n",
              "    .dataframe tbody tr th {\n",
              "        vertical-align: top;\n",
              "    }\n",
              "\n",
              "    .dataframe thead th {\n",
              "        text-align: right;\n",
              "    }\n",
              "</style>\n",
              "<table border=\"1\" class=\"dataframe\">\n",
              "  <thead>\n",
              "    <tr style=\"text-align: right;\">\n",
              "      <th></th>\n",
              "      <th>loss</th>\n",
              "      <th>val_loss</th>\n",
              "      <th>epoch</th>\n",
              "    </tr>\n",
              "  </thead>\n",
              "  <tbody>\n",
              "    <tr>\n",
              "      <th>20</th>\n",
              "      <td>0.132344</td>\n",
              "      <td>0.129535</td>\n",
              "      <td>20</td>\n",
              "    </tr>\n",
              "    <tr>\n",
              "      <th>21</th>\n",
              "      <td>0.131773</td>\n",
              "      <td>0.130614</td>\n",
              "      <td>21</td>\n",
              "    </tr>\n",
              "    <tr>\n",
              "      <th>22</th>\n",
              "      <td>0.132365</td>\n",
              "      <td>0.130691</td>\n",
              "      <td>22</td>\n",
              "    </tr>\n",
              "    <tr>\n",
              "      <th>23</th>\n",
              "      <td>0.131568</td>\n",
              "      <td>0.129827</td>\n",
              "      <td>23</td>\n",
              "    </tr>\n",
              "    <tr>\n",
              "      <th>24</th>\n",
              "      <td>0.131914</td>\n",
              "      <td>0.130819</td>\n",
              "      <td>24</td>\n",
              "    </tr>\n",
              "  </tbody>\n",
              "</table>\n",
              "</div>\n",
              "      <button class=\"colab-df-convert\" onclick=\"convertToInteractive('df-653c86aa-0dfc-4c77-9278-8bdd38ffdc00')\"\n",
              "              title=\"Convert this dataframe to an interactive table.\"\n",
              "              style=\"display:none;\">\n",
              "        \n",
              "  <svg xmlns=\"http://www.w3.org/2000/svg\" height=\"24px\"viewBox=\"0 0 24 24\"\n",
              "       width=\"24px\">\n",
              "    <path d=\"M0 0h24v24H0V0z\" fill=\"none\"/>\n",
              "    <path d=\"M18.56 5.44l.94 2.06.94-2.06 2.06-.94-2.06-.94-.94-2.06-.94 2.06-2.06.94zm-11 1L8.5 8.5l.94-2.06 2.06-.94-2.06-.94L8.5 2.5l-.94 2.06-2.06.94zm10 10l.94 2.06.94-2.06 2.06-.94-2.06-.94-.94-2.06-.94 2.06-2.06.94z\"/><path d=\"M17.41 7.96l-1.37-1.37c-.4-.4-.92-.59-1.43-.59-.52 0-1.04.2-1.43.59L10.3 9.45l-7.72 7.72c-.78.78-.78 2.05 0 2.83L4 21.41c.39.39.9.59 1.41.59.51 0 1.02-.2 1.41-.59l7.78-7.78 2.81-2.81c.8-.78.8-2.07 0-2.86zM5.41 20L4 18.59l7.72-7.72 1.47 1.35L5.41 20z\"/>\n",
              "  </svg>\n",
              "      </button>\n",
              "      \n",
              "  <style>\n",
              "    .colab-df-container {\n",
              "      display:flex;\n",
              "      flex-wrap:wrap;\n",
              "      gap: 12px;\n",
              "    }\n",
              "\n",
              "    .colab-df-convert {\n",
              "      background-color: #E8F0FE;\n",
              "      border: none;\n",
              "      border-radius: 50%;\n",
              "      cursor: pointer;\n",
              "      display: none;\n",
              "      fill: #1967D2;\n",
              "      height: 32px;\n",
              "      padding: 0 0 0 0;\n",
              "      width: 32px;\n",
              "    }\n",
              "\n",
              "    .colab-df-convert:hover {\n",
              "      background-color: #E2EBFA;\n",
              "      box-shadow: 0px 1px 2px rgba(60, 64, 67, 0.3), 0px 1px 3px 1px rgba(60, 64, 67, 0.15);\n",
              "      fill: #174EA6;\n",
              "    }\n",
              "\n",
              "    [theme=dark] .colab-df-convert {\n",
              "      background-color: #3B4455;\n",
              "      fill: #D2E3FC;\n",
              "    }\n",
              "\n",
              "    [theme=dark] .colab-df-convert:hover {\n",
              "      background-color: #434B5C;\n",
              "      box-shadow: 0px 1px 3px 1px rgba(0, 0, 0, 0.15);\n",
              "      filter: drop-shadow(0px 1px 2px rgba(0, 0, 0, 0.3));\n",
              "      fill: #FFFFFF;\n",
              "    }\n",
              "  </style>\n",
              "\n",
              "      <script>\n",
              "        const buttonEl =\n",
              "          document.querySelector('#df-653c86aa-0dfc-4c77-9278-8bdd38ffdc00 button.colab-df-convert');\n",
              "        buttonEl.style.display =\n",
              "          google.colab.kernel.accessAllowed ? 'block' : 'none';\n",
              "\n",
              "        async function convertToInteractive(key) {\n",
              "          const element = document.querySelector('#df-653c86aa-0dfc-4c77-9278-8bdd38ffdc00');\n",
              "          const dataTable =\n",
              "            await google.colab.kernel.invokeFunction('convertToInteractive',\n",
              "                                                     [key], {});\n",
              "          if (!dataTable) return;\n",
              "\n",
              "          const docLinkHtml = 'Like what you see? Visit the ' +\n",
              "            '<a target=\"_blank\" href=https://colab.research.google.com/notebooks/data_table.ipynb>data table notebook</a>'\n",
              "            + ' to learn more about interactive tables.';\n",
              "          element.innerHTML = '';\n",
              "          dataTable['output_type'] = 'display_data';\n",
              "          await google.colab.output.renderOutput(dataTable, element);\n",
              "          const docLink = document.createElement('div');\n",
              "          docLink.innerHTML = docLinkHtml;\n",
              "          element.appendChild(docLink);\n",
              "        }\n",
              "      </script>\n",
              "    </div>\n",
              "  </div>\n",
              "  "
            ]
          },
          "metadata": {},
          "execution_count": 148
        }
      ]
    },
    {
      "cell_type": "code",
      "source": [
        "def plot_loss(history):\n",
        "  plt.plot(history.history['loss'], label='loss')\n",
        "  plt.plot(history.history['val_loss'], label='val_loss')\n",
        "  plt.ylim([0, 3])\n",
        "  plt.xlabel('Epoch')\n",
        "  plt.ylabel('Error [Прочность при растяжении. МПа]')\n",
        "  plt.legend()\n",
        "  plt.grid(True)"
      ],
      "metadata": {
        "id": "SO-FciHvWLSx"
      },
      "execution_count": null,
      "outputs": []
    },
    {
      "cell_type": "code",
      "source": [
        "plot_loss(history)"
      ],
      "metadata": {
        "colab": {
          "base_uri": "https://localhost:8080/",
          "height": 283
        },
        "id": "IqM8eZ59WSyx",
        "outputId": "27ecd21a-a57a-4cf2-f081-d2834d2ef935"
      },
      "execution_count": null,
      "outputs": [
        {
          "output_type": "display_data",
          "data": {
            "text/plain": [
              "<Figure size 432x288 with 1 Axes>"
            ],
            "image/png": "[encoded data removed]"
          },
          "metadata": {
            "needs_background": "light"
          }
        }
      ]
    },
    {
      "cell_type": "markdown",
      "source": [
        "Соберем данные тестового набора для использования в дальнейшем"
      ],
      "metadata": {
        "id": "cwHHAHJibxeA"
      }
    },
    {
      "cell_type": "code",
      "source": [
        "test_results = {}\n",
        "\n",
        "test_results['Линейная регрессия'] = hardener_model.evaluate(\n",
        "    test_features['Количество отвердителя. м.%'],\n",
        "    test_labels, verbose=0)"
      ],
      "metadata": {
        "id": "WotnQwi8b6BN"
      },
      "execution_count": null,
      "outputs": []
    },
    {
      "cell_type": "markdown",
      "source": [
        "Отобразим график линейной регрессии"
      ],
      "metadata": {
        "id": "lfMFoQl5cTUM"
      }
    },
    {
      "cell_type": "code",
      "source": [
        "x = tf.linspace(0.0, 2, 2)\n",
        "y = hardener_model.predict(x)"
      ],
      "metadata": {
        "id": "c6vB1zjpcZCn"
      },
      "execution_count": null,
      "outputs": []
    },
    {
      "cell_type": "code",
      "source": [
        "def plot_hardener(x, y):\n",
        " plt.scatter(train_features['Количество отвердителя. м.%'], train_labels, label='Данные')\n",
        " plt.plot(x, y, color='k', label='Прогноз')\n",
        " plt.xlabel('Количество отвердителя')\n",
        " plt.ylabel('Прочность при растяжении. МПа')\n",
        " plt.legend()\n",
        "plot_hardener(x, y)"
      ],
      "metadata": {
        "colab": {
          "base_uri": "https://localhost:8080/",
          "height": 279
        },
        "id": "PvG6Pi1Dci_n",
        "outputId": "f1effea6-68e2-4b27-adda-4d93b64edc05"
      },
      "execution_count": null,
      "outputs": [
        {
          "output_type": "display_data",
          "data": {
            "text/plain": [
              "<Figure size 432x288 with 1 Axes>"
            ],
            "image/png": "[encoded data removed]"
          },
          "metadata": {
            "needs_background": "light"
          }
        }
      ]
    },
    {
      "cell_type": "markdown",
      "source": [
        "## Линейная регрессия для нескольких переменных\n",
        "Эта модель  выполняет обычное  y = mx + b, только  m - это матрица, а b - вектор.\n",
        "\n",
        "Создаем двухэтапную последовательную модель Keras с первым слоем, являющимся нормализатором tf.keras, которую мы определили ранее и адаптировали ко всему набору данных"
      ],
      "metadata": {
        "id": "A0flGtRQDHIL"
      }
    },
    {
      "cell_type": "code",
      "source": [
        "linear_model = tf.keras.Sequential([\n",
        "    normalizer,\n",
        "    layers.Dense(units=1)\n",
        "])"
      ],
      "metadata": {
        "id": "jJMDymx5EFNa"
      },
      "execution_count": null,
      "outputs": []
    },
    {
      "cell_type": "markdown",
      "source": [
        "Вызываем Model.predict на входных данных. Она производит units=1 результат для каждого примера:"
      ],
      "metadata": {
        "id": "A8vPI8-jik0Y"
      }
    },
    {
      "cell_type": "code",
      "source": [
        "linear_model.predict(train_features[:10])"
      ],
      "metadata": {
        "colab": {
          "base_uri": "https://localhost:8080/"
        },
        "id": "uPk8v8z4i9zo",
        "outputId": "21a1bfe9-1119-493f-8e19-802324f6b2ad"
      },
      "execution_count": null,
      "outputs": [
        {
          "output_type": "execute_result",
          "data": {
            "text/plain": [
              "array([[-0.343],\n",
              "       [ 0.099],\n",
              "       [ 0.948],\n",
              "       [ 0.415],\n",
              "       [-0.208],\n",
              "       [-1.438],\n",
              "       [ 0.304],\n",
              "       [-0.249],\n",
              "       [ 0.841],\n",
              "       [-0.114]], dtype=float32)"
            ]
          },
          "metadata": {},
          "execution_count": 155
        }
      ]
    },
    {
      "cell_type": "markdown",
      "source": [
        "При вызове модели будут построены ее весовые матрицы — убедимся, что веса ядра (m в y = mx + b) имеют размер (9, 1):"
      ],
      "metadata": {
        "id": "J6niilren8FS"
      }
    },
    {
      "cell_type": "code",
      "source": [
        "linear_model.layers[1].kernel"
      ],
      "metadata": {
        "colab": {
          "base_uri": "https://localhost:8080/"
        },
        "id": "iJDjKXwhjIKN",
        "outputId": "86ff13b5-aa6f-450c-cf9f-39eb46593d67"
      },
      "execution_count": null,
      "outputs": [
        {
          "output_type": "execute_result",
          "data": {
            "text/plain": [
              "<tf.Variable 'dense_29/kernel:0' shape=(12, 1) dtype=float32, numpy=\n",
              "array([[-0.423],\n",
              "       [ 0.224],\n",
              "       [ 0.081],\n",
              "       [ 0.395],\n",
              "       [ 0.378],\n",
              "       [-0.147],\n",
              "       [-0.315],\n",
              "       [ 0.231],\n",
              "       [ 0.243],\n",
              "       [-0.064],\n",
              "       [ 0.209],\n",
              "       [ 0.401]], dtype=float32)>"
            ]
          },
          "metadata": {},
          "execution_count": 156
        }
      ]
    },
    {
      "cell_type": "markdown",
      "source": [
        "Настройте модель с помощью Keras Model.compile и обучим с помощью Model.fit для 20 эпох"
      ],
      "metadata": {
        "id": "rKWpXKOXjpnF"
      }
    },
    {
      "cell_type": "code",
      "source": [
        "linear_model.compile(\n",
        "    optimizer=tf.optimizers.Adam(learning_rate=0.1),\n",
        "    loss='mean_absolute_error')"
      ],
      "metadata": {
        "id": "TS3ht4V5EYcn"
      },
      "execution_count": null,
      "outputs": []
    },
    {
      "cell_type": "code",
      "source": [
        "%%time\n",
        "history = linear_model.fit(\n",
        "    train_features,\n",
        "    train_labels,\n",
        "    epochs=20,\n",
        "    # Suppress logging.\n",
        "    verbose=0,\n",
        "    # Calculate validation results on 20% of the training data.\n",
        "    validation_split = 0.2)"
      ],
      "metadata": {
        "colab": {
          "base_uri": "https://localhost:8080/"
        },
        "id": "qlusZu4nEkuH",
        "outputId": "da4d5379-8412-457b-cd32-3df3f9943097"
      },
      "execution_count": null,
      "outputs": [
        {
          "output_type": "stream",
          "name": "stdout",
          "text": [
            "CPU times: user 2.5 s, sys: 103 ms, total: 2.6 s\n",
            "Wall time: 3.86 s\n"
          ]
        }
      ]
    },
    {
      "cell_type": "code",
      "source": [
        "hist = pd.DataFrame(history.history)\n",
        "hist['epoch'] = history.epoch\n",
        "hist.tail()"
      ],
      "metadata": {
        "colab": {
          "base_uri": "https://localhost:8080/",
          "height": 206
        },
        "id": "6qVs3LFOy-dP",
        "outputId": "f2d81e73-77bf-4dc4-bc1c-58b69d01ebb5"
      },
      "execution_count": null,
      "outputs": [
        {
          "output_type": "execute_result",
          "data": {
            "text/plain": [
              "        loss  val_loss  epoch\n",
              "15  0.165807  0.160312     15\n",
              "16  0.174350  0.185679     16\n",
              "17  0.190825  0.216519     17\n",
              "18  0.198589  0.188654     18\n",
              "19  0.187314  0.211552     19"
            ],
            "text/html": [
              "\n",
              "  <div id=\"df-74046755-515c-499e-9e5c-7da7b5dc08fd\">\n",
              "    <div class=\"colab-df-container\">\n",
              "      <div>\n",
              "<style scoped>\n",
              "    .dataframe tbody tr th:only-of-type {\n",
              "        vertical-align: middle;\n",
              "    }\n",
              "\n",
              "    .dataframe tbody tr th {\n",
              "        vertical-align: top;\n",
              "    }\n",
              "\n",
              "    .dataframe thead th {\n",
              "        text-align: right;\n",
              "    }\n",
              "</style>\n",
              "<table border=\"1\" class=\"dataframe\">\n",
              "  <thead>\n",
              "    <tr style=\"text-align: right;\">\n",
              "      <th></th>\n",
              "      <th>loss</th>\n",
              "      <th>val_loss</th>\n",
              "      <th>epoch</th>\n",
              "    </tr>\n",
              "  </thead>\n",
              "  <tbody>\n",
              "    <tr>\n",
              "      <th>15</th>\n",
              "      <td>0.165807</td>\n",
              "      <td>0.160312</td>\n",
              "      <td>15</td>\n",
              "    </tr>\n",
              "    <tr>\n",
              "      <th>16</th>\n",
              "      <td>0.174350</td>\n",
              "      <td>0.185679</td>\n",
              "      <td>16</td>\n",
              "    </tr>\n",
              "    <tr>\n",
              "      <th>17</th>\n",
              "      <td>0.190825</td>\n",
              "      <td>0.216519</td>\n",
              "      <td>17</td>\n",
              "    </tr>\n",
              "    <tr>\n",
              "      <th>18</th>\n",
              "      <td>0.198589</td>\n",
              "      <td>0.188654</td>\n",
              "      <td>18</td>\n",
              "    </tr>\n",
              "    <tr>\n",
              "      <th>19</th>\n",
              "      <td>0.187314</td>\n",
              "      <td>0.211552</td>\n",
              "      <td>19</td>\n",
              "    </tr>\n",
              "  </tbody>\n",
              "</table>\n",
              "</div>\n",
              "      <button class=\"colab-df-convert\" onclick=\"convertToInteractive('df-74046755-515c-499e-9e5c-7da7b5dc08fd')\"\n",
              "              title=\"Convert this dataframe to an interactive table.\"\n",
              "              style=\"display:none;\">\n",
              "        \n",
              "  <svg xmlns=\"http://www.w3.org/2000/svg\" height=\"24px\"viewBox=\"0 0 24 24\"\n",
              "       width=\"24px\">\n",
              "    <path d=\"M0 0h24v24H0V0z\" fill=\"none\"/>\n",
              "    <path d=\"M18.56 5.44l.94 2.06.94-2.06 2.06-.94-2.06-.94-.94-2.06-.94 2.06-2.06.94zm-11 1L8.5 8.5l.94-2.06 2.06-.94-2.06-.94L8.5 2.5l-.94 2.06-2.06.94zm10 10l.94 2.06.94-2.06 2.06-.94-2.06-.94-.94-2.06-.94 2.06-2.06.94z\"/><path d=\"M17.41 7.96l-1.37-1.37c-.4-.4-.92-.59-1.43-.59-.52 0-1.04.2-1.43.59L10.3 9.45l-7.72 7.72c-.78.78-.78 2.05 0 2.83L4 21.41c.39.39.9.59 1.41.59.51 0 1.02-.2 1.41-.59l7.78-7.78 2.81-2.81c.8-.78.8-2.07 0-2.86zM5.41 20L4 18.59l7.72-7.72 1.47 1.35L5.41 20z\"/>\n",
              "  </svg>\n",
              "      </button>\n",
              "      \n",
              "  <style>\n",
              "    .colab-df-container {\n",
              "      display:flex;\n",
              "      flex-wrap:wrap;\n",
              "      gap: 12px;\n",
              "    }\n",
              "\n",
              "    .colab-df-convert {\n",
              "      background-color: #E8F0FE;\n",
              "      border: none;\n",
              "      border-radius: 50%;\n",
              "      cursor: pointer;\n",
              "      display: none;\n",
              "      fill: #1967D2;\n",
              "      height: 32px;\n",
              "      padding: 0 0 0 0;\n",
              "      width: 32px;\n",
              "    }\n",
              "\n",
              "    .colab-df-convert:hover {\n",
              "      background-color: #E2EBFA;\n",
              "      box-shadow: 0px 1px 2px rgba(60, 64, 67, 0.3), 0px 1px 3px 1px rgba(60, 64, 67, 0.15);\n",
              "      fill: #174EA6;\n",
              "    }\n",
              "\n",
              "    [theme=dark] .colab-df-convert {\n",
              "      background-color: #3B4455;\n",
              "      fill: #D2E3FC;\n",
              "    }\n",
              "\n",
              "    [theme=dark] .colab-df-convert:hover {\n",
              "      background-color: #434B5C;\n",
              "      box-shadow: 0px 1px 3px 1px rgba(0, 0, 0, 0.15);\n",
              "      filter: drop-shadow(0px 1px 2px rgba(0, 0, 0, 0.3));\n",
              "      fill: #FFFFFF;\n",
              "    }\n",
              "  </style>\n",
              "\n",
              "      <script>\n",
              "        const buttonEl =\n",
              "          document.querySelector('#df-74046755-515c-499e-9e5c-7da7b5dc08fd button.colab-df-convert');\n",
              "        buttonEl.style.display =\n",
              "          google.colab.kernel.accessAllowed ? 'block' : 'none';\n",
              "\n",
              "        async function convertToInteractive(key) {\n",
              "          const element = document.querySelector('#df-74046755-515c-499e-9e5c-7da7b5dc08fd');\n",
              "          const dataTable =\n",
              "            await google.colab.kernel.invokeFunction('convertToInteractive',\n",
              "                                                     [key], {});\n",
              "          if (!dataTable) return;\n",
              "\n",
              "          const docLinkHtml = 'Like what you see? Visit the ' +\n",
              "            '<a target=\"_blank\" href=https://colab.research.google.com/notebooks/data_table.ipynb>data table notebook</a>'\n",
              "            + ' to learn more about interactive tables.';\n",
              "          element.innerHTML = '';\n",
              "          dataTable['output_type'] = 'display_data';\n",
              "          await google.colab.output.renderOutput(dataTable, element);\n",
              "          const docLink = document.createElement('div');\n",
              "          docLink.innerHTML = docLinkHtml;\n",
              "          element.appendChild(docLink);\n",
              "        }\n",
              "      </script>\n",
              "    </div>\n",
              "  </div>\n",
              "  "
            ]
          },
          "metadata": {},
          "execution_count": 159
        }
      ]
    },
    {
      "cell_type": "markdown",
      "source": [
        "## Визуализируем ход обучения модели, используя статистику, хранящуюся в объекте history"
      ],
      "metadata": {
        "id": "FOX2KHR_FEz-"
      }
    },
    {
      "cell_type": "code",
      "source": [
        "plot_loss(history)"
      ],
      "metadata": {
        "colab": {
          "base_uri": "https://localhost:8080/",
          "height": 283
        },
        "id": "Wc3fWtSTExb3",
        "outputId": "04949c29-a91a-4d5e-8e31-4f5b54d4a492"
      },
      "execution_count": null,
      "outputs": [
        {
          "output_type": "display_data",
          "data": {
            "text/plain": [
              "<Figure size 432x288 with 1 Axes>"
            ],
            "image/png": "[encoded data removed]"
          },
          "metadata": {
            "needs_background": "light"
          }
        }
      ]
    },
    {
      "cell_type": "code",
      "source": [
        "test_results['Линейная модель для нескольких переменных'] = linear_model.evaluate(\n",
        "    test_features, test_labels, verbose=0)"
      ],
      "metadata": {
        "id": "i-xID2cEpAWj"
      },
      "execution_count": null,
      "outputs": []
    },
    {
      "cell_type": "markdown",
      "source": [
        "## Регрессия с использованием нейросети"
      ],
      "metadata": {
        "id": "OmLu5cIso-_b"
      }
    },
    {
      "cell_type": "code",
      "source": [
        "def build_and_compile_model(norm):\n",
        "  model = keras.Sequential([\n",
        "      norm,\n",
        "      layers.Dense(128, activation='relu'),\n",
        "      layers.Dense(64, activation='relu'),\n",
        "      layers.Dropout(0.2),\n",
        "      layers.Dense(32, activation='linear'),\n",
        "      layers.Dense(1)\n",
        "  ])\n",
        "\n",
        "  model.compile(loss='mean_absolute_error',\n",
        "                optimizer=tf.keras.optimizers.Adam(0.001))\n",
        "  return model"
      ],
      "metadata": {
        "id": "bdX0U1Uy0FqC"
      },
      "execution_count": null,
      "outputs": []
    },
    {
      "cell_type": "code",
      "source": [
        "# def build_and_compile_model(norm):\n",
        "#   model = keras.Sequential([\n",
        "#       norm,\n",
        "#       layers.Dense(128, activation='relu'),\n",
        "#       layers.Dense(64, activation='relu'),\n",
        "#       layers.Dropout(0.2),\n",
        "#       layers.Dense(32, activation='linear'),\n",
        "#       layers.Dense(1)\n",
        "#   ])\n",
        "\n",
        "#   model.compile(loss='mean_absolute_error',\n",
        "#                 optimizer=tf.keras.optimizers.Adam(0.001))\n",
        "#   return model"
      ],
      "metadata": {
        "id": "UsxbFRj5hp5k"
      },
      "execution_count": null,
      "outputs": []
    },
    {
      "cell_type": "markdown",
      "source": [
        "Регрессия с использованием нейросети для одной переменной"
      ],
      "metadata": {
        "id": "E7h-CEDx0NaP"
      }
    },
    {
      "cell_type": "code",
      "source": [
        "dnn_hardener_model = build_and_compile_model(hardener_normalizer)"
      ],
      "metadata": {
        "id": "Nu-MWMi50Q1X"
      },
      "execution_count": null,
      "outputs": []
    },
    {
      "cell_type": "code",
      "source": [
        "dnn_hardener_model.summary()"
      ],
      "metadata": {
        "colab": {
          "base_uri": "https://localhost:8080/"
        },
        "id": "X3ggga6o0ept",
        "outputId": "978984c0-7bed-4082-f20d-57821b08ddc4"
      },
      "execution_count": null,
      "outputs": [
        {
          "output_type": "stream",
          "name": "stdout",
          "text": [
            "Model: \"sequential_12\"\n",
            "_________________________________________________________________\n",
            " Layer (type)                Output Shape              Param #   \n",
            "=================================================================\n",
            " normalization_5 (Normalizat  (None, 1)                3         \n",
            " ion)                                                            \n",
            "                                                                 \n",
            " dense_30 (Dense)            (None, 128)               256       \n",
            "                                                                 \n",
            " dense_31 (Dense)            (None, 64)                8256      \n",
            "                                                                 \n",
            " dropout_6 (Dropout)         (None, 64)                0         \n",
            "                                                                 \n",
            " dense_32 (Dense)            (None, 32)                2080      \n",
            "                                                                 \n",
            " dense_33 (Dense)            (None, 1)                 33        \n",
            "                                                                 \n",
            "=================================================================\n",
            "Total params: 10,628\n",
            "Trainable params: 10,625\n",
            "Non-trainable params: 3\n",
            "_________________________________________________________________\n"
          ]
        }
      ]
    },
    {
      "cell_type": "code",
      "source": [
        "%%time\n",
        "history = dnn_hardener_model.fit(\n",
        "    train_features['Количество отвердителя. м.%'],\n",
        "    train_labels,\n",
        "    validation_split=0.2,\n",
        "    verbose=0, epochs=20)"
      ],
      "metadata": {
        "colab": {
          "base_uri": "https://localhost:8080/"
        },
        "id": "Bn2dXAji0mYN",
        "outputId": "6678557b-d47f-48b1-b553-cd37e126388d"
      },
      "execution_count": null,
      "outputs": [
        {
          "output_type": "stream",
          "name": "stdout",
          "text": [
            "CPU times: user 3.18 s, sys: 139 ms, total: 3.32 s\n",
            "Wall time: 4.34 s\n"
          ]
        }
      ]
    },
    {
      "cell_type": "code",
      "source": [
        "hist = pd.DataFrame(history.history)\n",
        "hist['epoch'] = history.epoch\n",
        "hist.tail()"
      ],
      "metadata": {
        "colab": {
          "base_uri": "https://localhost:8080/",
          "height": 206
        },
        "id": "mf0OP1JZrJ_k",
        "outputId": "d8185034-3184-4c6b-fc28-3c40844ffd43"
      },
      "execution_count": null,
      "outputs": [
        {
          "output_type": "execute_result",
          "data": {
            "text/plain": [
              "        loss  val_loss  epoch\n",
              "15  0.137770  0.123619     15\n",
              "16  0.136680  0.121395     16\n",
              "17  0.135748  0.120759     17\n",
              "18  0.134162  0.121609     18\n",
              "19  0.138072  0.121575     19"
            ],
            "text/html": [
              "\n",
              "  <div id=\"df-6066de57-9fbd-4849-947b-39feaeaf55b1\">\n",
              "    <div class=\"colab-df-container\">\n",
              "      <div>\n",
              "<style scoped>\n",
              "    .dataframe tbody tr th:only-of-type {\n",
              "        vertical-align: middle;\n",
              "    }\n",
              "\n",
              "    .dataframe tbody tr th {\n",
              "        vertical-align: top;\n",
              "    }\n",
              "\n",
              "    .dataframe thead th {\n",
              "        text-align: right;\n",
              "    }\n",
              "</style>\n",
              "<table border=\"1\" class=\"dataframe\">\n",
              "  <thead>\n",
              "    <tr style=\"text-align: right;\">\n",
              "      <th></th>\n",
              "      <th>loss</th>\n",
              "      <th>val_loss</th>\n",
              "      <th>epoch</th>\n",
              "    </tr>\n",
              "  </thead>\n",
              "  <tbody>\n",
              "    <tr>\n",
              "      <th>15</th>\n",
              "      <td>0.137770</td>\n",
              "      <td>0.123619</td>\n",
              "      <td>15</td>\n",
              "    </tr>\n",
              "    <tr>\n",
              "      <th>16</th>\n",
              "      <td>0.136680</td>\n",
              "      <td>0.121395</td>\n",
              "      <td>16</td>\n",
              "    </tr>\n",
              "    <tr>\n",
              "      <th>17</th>\n",
              "      <td>0.135748</td>\n",
              "      <td>0.120759</td>\n",
              "      <td>17</td>\n",
              "    </tr>\n",
              "    <tr>\n",
              "      <th>18</th>\n",
              "      <td>0.134162</td>\n",
              "      <td>0.121609</td>\n",
              "      <td>18</td>\n",
              "    </tr>\n",
              "    <tr>\n",
              "      <th>19</th>\n",
              "      <td>0.138072</td>\n",
              "      <td>0.121575</td>\n",
              "      <td>19</td>\n",
              "    </tr>\n",
              "  </tbody>\n",
              "</table>\n",
              "</div>\n",
              "      <button class=\"colab-df-convert\" onclick=\"convertToInteractive('df-6066de57-9fbd-4849-947b-39feaeaf55b1')\"\n",
              "              title=\"Convert this dataframe to an interactive table.\"\n",
              "              style=\"display:none;\">\n",
              "        \n",
              "  <svg xmlns=\"http://www.w3.org/2000/svg\" height=\"24px\"viewBox=\"0 0 24 24\"\n",
              "       width=\"24px\">\n",
              "    <path d=\"M0 0h24v24H0V0z\" fill=\"none\"/>\n",
              "    <path d=\"M18.56 5.44l.94 2.06.94-2.06 2.06-.94-2.06-.94-.94-2.06-.94 2.06-2.06.94zm-11 1L8.5 8.5l.94-2.06 2.06-.94-2.06-.94L8.5 2.5l-.94 2.06-2.06.94zm10 10l.94 2.06.94-2.06 2.06-.94-2.06-.94-.94-2.06-.94 2.06-2.06.94z\"/><path d=\"M17.41 7.96l-1.37-1.37c-.4-.4-.92-.59-1.43-.59-.52 0-1.04.2-1.43.59L10.3 9.45l-7.72 7.72c-.78.78-.78 2.05 0 2.83L4 21.41c.39.39.9.59 1.41.59.51 0 1.02-.2 1.41-.59l7.78-7.78 2.81-2.81c.8-.78.8-2.07 0-2.86zM5.41 20L4 18.59l7.72-7.72 1.47 1.35L5.41 20z\"/>\n",
              "  </svg>\n",
              "      </button>\n",
              "      \n",
              "  <style>\n",
              "    .colab-df-container {\n",
              "      display:flex;\n",
              "      flex-wrap:wrap;\n",
              "      gap: 12px;\n",
              "    }\n",
              "\n",
              "    .colab-df-convert {\n",
              "      background-color: #E8F0FE;\n",
              "      border: none;\n",
              "      border-radius: 50%;\n",
              "      cursor: pointer;\n",
              "      display: none;\n",
              "      fill: #1967D2;\n",
              "      height: 32px;\n",
              "      padding: 0 0 0 0;\n",
              "      width: 32px;\n",
              "    }\n",
              "\n",
              "    .colab-df-convert:hover {\n",
              "      background-color: #E2EBFA;\n",
              "      box-shadow: 0px 1px 2px rgba(60, 64, 67, 0.3), 0px 1px 3px 1px rgba(60, 64, 67, 0.15);\n",
              "      fill: #174EA6;\n",
              "    }\n",
              "\n",
              "    [theme=dark] .colab-df-convert {\n",
              "      background-color: #3B4455;\n",
              "      fill: #D2E3FC;\n",
              "    }\n",
              "\n",
              "    [theme=dark] .colab-df-convert:hover {\n",
              "      background-color: #434B5C;\n",
              "      box-shadow: 0px 1px 3px 1px rgba(0, 0, 0, 0.15);\n",
              "      filter: drop-shadow(0px 1px 2px rgba(0, 0, 0, 0.3));\n",
              "      fill: #FFFFFF;\n",
              "    }\n",
              "  </style>\n",
              "\n",
              "      <script>\n",
              "        const buttonEl =\n",
              "          document.querySelector('#df-6066de57-9fbd-4849-947b-39feaeaf55b1 button.colab-df-convert');\n",
              "        buttonEl.style.display =\n",
              "          google.colab.kernel.accessAllowed ? 'block' : 'none';\n",
              "\n",
              "        async function convertToInteractive(key) {\n",
              "          const element = document.querySelector('#df-6066de57-9fbd-4849-947b-39feaeaf55b1');\n",
              "          const dataTable =\n",
              "            await google.colab.kernel.invokeFunction('convertToInteractive',\n",
              "                                                     [key], {});\n",
              "          if (!dataTable) return;\n",
              "\n",
              "          const docLinkHtml = 'Like what you see? Visit the ' +\n",
              "            '<a target=\"_blank\" href=https://colab.research.google.com/notebooks/data_table.ipynb>data table notebook</a>'\n",
              "            + ' to learn more about interactive tables.';\n",
              "          element.innerHTML = '';\n",
              "          dataTable['output_type'] = 'display_data';\n",
              "          await google.colab.output.renderOutput(dataTable, element);\n",
              "          const docLink = document.createElement('div');\n",
              "          docLink.innerHTML = docLinkHtml;\n",
              "          element.appendChild(docLink);\n",
              "        }\n",
              "      </script>\n",
              "    </div>\n",
              "  </div>\n",
              "  "
            ]
          },
          "metadata": {},
          "execution_count": 167
        }
      ]
    },
    {
      "cell_type": "code",
      "source": [
        "plot_loss(history)"
      ],
      "metadata": {
        "colab": {
          "base_uri": "https://localhost:8080/",
          "height": 283
        },
        "id": "Gc--1Xjj1abc",
        "outputId": "dcee795c-e44e-4bfd-e630-af1361b0263b"
      },
      "execution_count": null,
      "outputs": [
        {
          "output_type": "display_data",
          "data": {
            "text/plain": [
              "<Figure size 432x288 with 1 Axes>"
            ],
            "image/png": "[encoded data removed]"
          },
          "metadata": {
            "needs_background": "light"
          }
        }
      ]
    },
    {
      "cell_type": "markdown",
      "source": [
        "Смотрим график"
      ],
      "metadata": {
        "id": "32xLrIMW23fe"
      }
    },
    {
      "cell_type": "code",
      "source": [
        "x = tf.linspace(0.0, 1, 10)\n",
        "y = dnn_hardener_model.predict(x)\n",
        "plot_hardener(x, y)"
      ],
      "metadata": {
        "colab": {
          "base_uri": "https://localhost:8080/",
          "height": 279
        },
        "id": "sTDSRI3V258F",
        "outputId": "b1eecad0-6700-4c17-b2cb-a5c4b29a24bc"
      },
      "execution_count": null,
      "outputs": [
        {
          "output_type": "display_data",
          "data": {
            "text/plain": [
              "<Figure size 432x288 with 1 Axes>"
            ],
            "image/png": "[encoded data removed]"
          },
          "metadata": {
            "needs_background": "light"
          }
        }
      ]
    },
    {
      "cell_type": "markdown",
      "source": [
        "Забавно получилось)))"
      ],
      "metadata": {
        "id": "9OKfS2sa3KhD"
      }
    },
    {
      "cell_type": "code",
      "source": [
        "#Сохраняем данные на будущее\n",
        "test_results['Нейросеть для одной переменной'] = dnn_hardener_model.evaluate(\n",
        "    test_features['Количество отвердителя. м.%'], test_labels,\n",
        "    verbose=0)"
      ],
      "metadata": {
        "id": "CwKRQKJJ3TpB"
      },
      "execution_count": null,
      "outputs": []
    },
    {
      "cell_type": "markdown",
      "source": [
        "## НЕЙРОСЕТЬ ДЛЯ МНОЖЕСТВЕННОЙ РЕГРЕССИИ"
      ],
      "metadata": {
        "id": "NVKQ65HG33V6"
      }
    },
    {
      "cell_type": "code",
      "source": [
        "dnn_model = build_and_compile_model(normalizer)\n",
        "dnn_model.summary()"
      ],
      "metadata": {
        "colab": {
          "base_uri": "https://localhost:8080/"
        },
        "id": "8q7IL3gr3-_C",
        "outputId": "c1e77a1d-c6f2-4142-bdb4-0763a2010013"
      },
      "execution_count": null,
      "outputs": [
        {
          "output_type": "stream",
          "name": "stdout",
          "text": [
            "Model: \"sequential_13\"\n",
            "_________________________________________________________________\n",
            " Layer (type)                Output Shape              Param #   \n",
            "=================================================================\n",
            " normalization_4 (Normalizat  (None, 12)               25        \n",
            " ion)                                                            \n",
            "                                                                 \n",
            " dense_34 (Dense)            (None, 128)               1664      \n",
            "                                                                 \n",
            " dense_35 (Dense)            (None, 64)                8256      \n",
            "                                                                 \n",
            " dropout_7 (Dropout)         (None, 64)                0         \n",
            "                                                                 \n",
            " dense_36 (Dense)            (None, 32)                2080      \n",
            "                                                                 \n",
            " dense_37 (Dense)            (None, 1)                 33        \n",
            "                                                                 \n",
            "=================================================================\n",
            "Total params: 12,058\n",
            "Trainable params: 12,033\n",
            "Non-trainable params: 25\n",
            "_________________________________________________________________\n"
          ]
        }
      ]
    },
    {
      "cell_type": "code",
      "source": [
        "%%time\n",
        "history = dnn_model.fit(\n",
        "    train_features,\n",
        "    train_labels,\n",
        "    validation_split=0.2,\n",
        "    verbose=0, epochs=20)"
      ],
      "metadata": {
        "colab": {
          "base_uri": "https://localhost:8080/"
        },
        "id": "wNzxfbJ24Bii",
        "outputId": "db74375f-6849-4e0c-e27b-1ecb4d022aa3"
      },
      "execution_count": null,
      "outputs": [
        {
          "output_type": "stream",
          "name": "stdout",
          "text": [
            "CPU times: user 3.54 s, sys: 135 ms, total: 3.67 s\n",
            "Wall time: 6.22 s\n"
          ]
        }
      ]
    },
    {
      "cell_type": "code",
      "source": [
        "hist = pd.DataFrame(history.history)\n",
        "hist['epoch'] = history.epoch\n",
        "hist.tail()"
      ],
      "metadata": {
        "colab": {
          "base_uri": "https://localhost:8080/",
          "height": 206
        },
        "id": "rj6jKKb-vJ1M",
        "outputId": "24325ce4-7b4e-4c50-aff0-c72e27d97133"
      },
      "execution_count": null,
      "outputs": [
        {
          "output_type": "execute_result",
          "data": {
            "text/plain": [
              "        loss  val_loss  epoch\n",
              "15  0.105158  0.140936     15\n",
              "16  0.099299  0.139388     16\n",
              "17  0.098684  0.140081     17\n",
              "18  0.091781  0.138608     18\n",
              "19  0.090700  0.141243     19"
            ],
            "text/html": [
              "\n",
              "  <div id=\"df-713abfca-7e92-4aad-88e9-34bb3b469d49\">\n",
              "    <div class=\"colab-df-container\">\n",
              "      <div>\n",
              "<style scoped>\n",
              "    .dataframe tbody tr th:only-of-type {\n",
              "        vertical-align: middle;\n",
              "    }\n",
              "\n",
              "    .dataframe tbody tr th {\n",
              "        vertical-align: top;\n",
              "    }\n",
              "\n",
              "    .dataframe thead th {\n",
              "        text-align: right;\n",
              "    }\n",
              "</style>\n",
              "<table border=\"1\" class=\"dataframe\">\n",
              "  <thead>\n",
              "    <tr style=\"text-align: right;\">\n",
              "      <th></th>\n",
              "      <th>loss</th>\n",
              "      <th>val_loss</th>\n",
              "      <th>epoch</th>\n",
              "    </tr>\n",
              "  </thead>\n",
              "  <tbody>\n",
              "    <tr>\n",
              "      <th>15</th>\n",
              "      <td>0.105158</td>\n",
              "      <td>0.140936</td>\n",
              "      <td>15</td>\n",
              "    </tr>\n",
              "    <tr>\n",
              "      <th>16</th>\n",
              "      <td>0.099299</td>\n",
              "      <td>0.139388</td>\n",
              "      <td>16</td>\n",
              "    </tr>\n",
              "    <tr>\n",
              "      <th>17</th>\n",
              "      <td>0.098684</td>\n",
              "      <td>0.140081</td>\n",
              "      <td>17</td>\n",
              "    </tr>\n",
              "    <tr>\n",
              "      <th>18</th>\n",
              "      <td>0.091781</td>\n",
              "      <td>0.138608</td>\n",
              "      <td>18</td>\n",
              "    </tr>\n",
              "    <tr>\n",
              "      <th>19</th>\n",
              "      <td>0.090700</td>\n",
              "      <td>0.141243</td>\n",
              "      <td>19</td>\n",
              "    </tr>\n",
              "  </tbody>\n",
              "</table>\n",
              "</div>\n",
              "      <button class=\"colab-df-convert\" onclick=\"convertToInteractive('df-713abfca-7e92-4aad-88e9-34bb3b469d49')\"\n",
              "              title=\"Convert this dataframe to an interactive table.\"\n",
              "              style=\"display:none;\">\n",
              "        \n",
              "  <svg xmlns=\"http://www.w3.org/2000/svg\" height=\"24px\"viewBox=\"0 0 24 24\"\n",
              "       width=\"24px\">\n",
              "    <path d=\"M0 0h24v24H0V0z\" fill=\"none\"/>\n",
              "    <path d=\"M18.56 5.44l.94 2.06.94-2.06 2.06-.94-2.06-.94-.94-2.06-.94 2.06-2.06.94zm-11 1L8.5 8.5l.94-2.06 2.06-.94-2.06-.94L8.5 2.5l-.94 2.06-2.06.94zm10 10l.94 2.06.94-2.06 2.06-.94-2.06-.94-.94-2.06-.94 2.06-2.06.94z\"/><path d=\"M17.41 7.96l-1.37-1.37c-.4-.4-.92-.59-1.43-.59-.52 0-1.04.2-1.43.59L10.3 9.45l-7.72 7.72c-.78.78-.78 2.05 0 2.83L4 21.41c.39.39.9.59 1.41.59.51 0 1.02-.2 1.41-.59l7.78-7.78 2.81-2.81c.8-.78.8-2.07 0-2.86zM5.41 20L4 18.59l7.72-7.72 1.47 1.35L5.41 20z\"/>\n",
              "  </svg>\n",
              "      </button>\n",
              "      \n",
              "  <style>\n",
              "    .colab-df-container {\n",
              "      display:flex;\n",
              "      flex-wrap:wrap;\n",
              "      gap: 12px;\n",
              "    }\n",
              "\n",
              "    .colab-df-convert {\n",
              "      background-color: #E8F0FE;\n",
              "      border: none;\n",
              "      border-radius: 50%;\n",
              "      cursor: pointer;\n",
              "      display: none;\n",
              "      fill: #1967D2;\n",
              "      height: 32px;\n",
              "      padding: 0 0 0 0;\n",
              "      width: 32px;\n",
              "    }\n",
              "\n",
              "    .colab-df-convert:hover {\n",
              "      background-color: #E2EBFA;\n",
              "      box-shadow: 0px 1px 2px rgba(60, 64, 67, 0.3), 0px 1px 3px 1px rgba(60, 64, 67, 0.15);\n",
              "      fill: #174EA6;\n",
              "    }\n",
              "\n",
              "    [theme=dark] .colab-df-convert {\n",
              "      background-color: #3B4455;\n",
              "      fill: #D2E3FC;\n",
              "    }\n",
              "\n",
              "    [theme=dark] .colab-df-convert:hover {\n",
              "      background-color: #434B5C;\n",
              "      box-shadow: 0px 1px 3px 1px rgba(0, 0, 0, 0.15);\n",
              "      filter: drop-shadow(0px 1px 2px rgba(0, 0, 0, 0.3));\n",
              "      fill: #FFFFFF;\n",
              "    }\n",
              "  </style>\n",
              "\n",
              "      <script>\n",
              "        const buttonEl =\n",
              "          document.querySelector('#df-713abfca-7e92-4aad-88e9-34bb3b469d49 button.colab-df-convert');\n",
              "        buttonEl.style.display =\n",
              "          google.colab.kernel.accessAllowed ? 'block' : 'none';\n",
              "\n",
              "        async function convertToInteractive(key) {\n",
              "          const element = document.querySelector('#df-713abfca-7e92-4aad-88e9-34bb3b469d49');\n",
              "          const dataTable =\n",
              "            await google.colab.kernel.invokeFunction('convertToInteractive',\n",
              "                                                     [key], {});\n",
              "          if (!dataTable) return;\n",
              "\n",
              "          const docLinkHtml = 'Like what you see? Visit the ' +\n",
              "            '<a target=\"_blank\" href=https://colab.research.google.com/notebooks/data_table.ipynb>data table notebook</a>'\n",
              "            + ' to learn more about interactive tables.';\n",
              "          element.innerHTML = '';\n",
              "          dataTable['output_type'] = 'display_data';\n",
              "          await google.colab.output.renderOutput(dataTable, element);\n",
              "          const docLink = document.createElement('div');\n",
              "          docLink.innerHTML = docLinkHtml;\n",
              "          element.appendChild(docLink);\n",
              "        }\n",
              "      </script>\n",
              "    </div>\n",
              "  </div>\n",
              "  "
            ]
          },
          "metadata": {},
          "execution_count": 173
        }
      ]
    },
    {
      "cell_type": "code",
      "source": [
        "plot_loss(history)"
      ],
      "metadata": {
        "colab": {
          "base_uri": "https://localhost:8080/",
          "height": 283
        },
        "id": "bAxd2mGr4HsZ",
        "outputId": "af3e261a-f2f8-4057-ed95-112ad9aa513e"
      },
      "execution_count": null,
      "outputs": [
        {
          "output_type": "display_data",
          "data": {
            "text/plain": [
              "<Figure size 432x288 with 1 Axes>"
            ],
            "image/png": "[encoded data removed]"
          },
          "metadata": {
            "needs_background": "light"
          }
        }
      ]
    },
    {
      "cell_type": "code",
      "source": [
        "#Соберем результаты\n",
        "test_results['Нейросеть для множественной регрессии'] = dnn_model.evaluate(test_features, test_labels, verbose=0)"
      ],
      "metadata": {
        "id": "avxMMXez4WE3"
      },
      "execution_count": null,
      "outputs": []
    },
    {
      "cell_type": "markdown",
      "source": [
        "### Представление работы обученной модели на тестовой выборке\n"
      ],
      "metadata": {
        "id": "iGX0X0v44rMd"
      }
    },
    {
      "cell_type": "code",
      "source": [
        "pd.DataFrame(test_results, index=['Mean absolute error [Прочность при растяжении. МПа]']).T"
      ],
      "metadata": {
        "colab": {
          "base_uri": "https://localhost:8080/",
          "height": 175
        },
        "id": "D0Sy6d8g42-J",
        "outputId": "0f5e29c6-1560-477f-ee4d-9c55d4ad5393"
      },
      "execution_count": null,
      "outputs": [
        {
          "output_type": "execute_result",
          "data": {
            "text/plain": [
              "                                           Mean absolute error [Прочность при растяжении. МПа]\n",
              "Линейная регрессия                                                                  0.134628  \n",
              "Линейная модель для нескольких переменных                                           0.178289  \n",
              "Нейросеть для одной переменной                                                      0.130647  \n",
              "Нейросеть для множественной регрессии                                               0.145080  "
            ],
            "text/html": [
              "\n",
              "  <div id=\"df-43a2cee1-2250-434d-8383-d054db4a0b7c\">\n",
              "    <div class=\"colab-df-container\">\n",
              "      <div>\n",
              "<style scoped>\n",
              "    .dataframe tbody tr th:only-of-type {\n",
              "        vertical-align: middle;\n",
              "    }\n",
              "\n",
              "    .dataframe tbody tr th {\n",
              "        vertical-align: top;\n",
              "    }\n",
              "\n",
              "    .dataframe thead th {\n",
              "        text-align: right;\n",
              "    }\n",
              "</style>\n",
              "<table border=\"1\" class=\"dataframe\">\n",
              "  <thead>\n",
              "    <tr style=\"text-align: right;\">\n",
              "      <th></th>\n",
              "      <th>Mean absolute error [Прочность при растяжении. МПа]</th>\n",
              "    </tr>\n",
              "  </thead>\n",
              "  <tbody>\n",
              "    <tr>\n",
              "      <th>Линейная регрессия</th>\n",
              "      <td>0.134628</td>\n",
              "    </tr>\n",
              "    <tr>\n",
              "      <th>Линейная модель для нескольких переменных</th>\n",
              "      <td>0.178289</td>\n",
              "    </tr>\n",
              "    <tr>\n",
              "      <th>Нейросеть для одной переменной</th>\n",
              "      <td>0.130647</td>\n",
              "    </tr>\n",
              "    <tr>\n",
              "      <th>Нейросеть для множественной регрессии</th>\n",
              "      <td>0.145080</td>\n",
              "    </tr>\n",
              "  </tbody>\n",
              "</table>\n",
              "</div>\n",
              "      <button class=\"colab-df-convert\" onclick=\"convertToInteractive('df-43a2cee1-2250-434d-8383-d054db4a0b7c')\"\n",
              "              title=\"Convert this dataframe to an interactive table.\"\n",
              "              style=\"display:none;\">\n",
              "        \n",
              "  <svg xmlns=\"http://www.w3.org/2000/svg\" height=\"24px\"viewBox=\"0 0 24 24\"\n",
              "       width=\"24px\">\n",
              "    <path d=\"M0 0h24v24H0V0z\" fill=\"none\"/>\n",
              "    <path d=\"M18.56 5.44l.94 2.06.94-2.06 2.06-.94-2.06-.94-.94-2.06-.94 2.06-2.06.94zm-11 1L8.5 8.5l.94-2.06 2.06-.94-2.06-.94L8.5 2.5l-.94 2.06-2.06.94zm10 10l.94 2.06.94-2.06 2.06-.94-2.06-.94-.94-2.06-.94 2.06-2.06.94z\"/><path d=\"M17.41 7.96l-1.37-1.37c-.4-.4-.92-.59-1.43-.59-.52 0-1.04.2-1.43.59L10.3 9.45l-7.72 7.72c-.78.78-.78 2.05 0 2.83L4 21.41c.39.39.9.59 1.41.59.51 0 1.02-.2 1.41-.59l7.78-7.78 2.81-2.81c.8-.78.8-2.07 0-2.86zM5.41 20L4 18.59l7.72-7.72 1.47 1.35L5.41 20z\"/>\n",
              "  </svg>\n",
              "      </button>\n",
              "      \n",
              "  <style>\n",
              "    .colab-df-container {\n",
              "      display:flex;\n",
              "      flex-wrap:wrap;\n",
              "      gap: 12px;\n",
              "    }\n",
              "\n",
              "    .colab-df-convert {\n",
              "      background-color: #E8F0FE;\n",
              "      border: none;\n",
              "      border-radius: 50%;\n",
              "      cursor: pointer;\n",
              "      display: none;\n",
              "      fill: #1967D2;\n",
              "      height: 32px;\n",
              "      padding: 0 0 0 0;\n",
              "      width: 32px;\n",
              "    }\n",
              "\n",
              "    .colab-df-convert:hover {\n",
              "      background-color: #E2EBFA;\n",
              "      box-shadow: 0px 1px 2px rgba(60, 64, 67, 0.3), 0px 1px 3px 1px rgba(60, 64, 67, 0.15);\n",
              "      fill: #174EA6;\n",
              "    }\n",
              "\n",
              "    [theme=dark] .colab-df-convert {\n",
              "      background-color: #3B4455;\n",
              "      fill: #D2E3FC;\n",
              "    }\n",
              "\n",
              "    [theme=dark] .colab-df-convert:hover {\n",
              "      background-color: #434B5C;\n",
              "      box-shadow: 0px 1px 3px 1px rgba(0, 0, 0, 0.15);\n",
              "      filter: drop-shadow(0px 1px 2px rgba(0, 0, 0, 0.3));\n",
              "      fill: #FFFFFF;\n",
              "    }\n",
              "  </style>\n",
              "\n",
              "      <script>\n",
              "        const buttonEl =\n",
              "          document.querySelector('#df-43a2cee1-2250-434d-8383-d054db4a0b7c button.colab-df-convert');\n",
              "        buttonEl.style.display =\n",
              "          google.colab.kernel.accessAllowed ? 'block' : 'none';\n",
              "\n",
              "        async function convertToInteractive(key) {\n",
              "          const element = document.querySelector('#df-43a2cee1-2250-434d-8383-d054db4a0b7c');\n",
              "          const dataTable =\n",
              "            await google.colab.kernel.invokeFunction('convertToInteractive',\n",
              "                                                     [key], {});\n",
              "          if (!dataTable) return;\n",
              "\n",
              "          const docLinkHtml = 'Like what you see? Visit the ' +\n",
              "            '<a target=\"_blank\" href=https://colab.research.google.com/notebooks/data_table.ipynb>data table notebook</a>'\n",
              "            + ' to learn more about interactive tables.';\n",
              "          element.innerHTML = '';\n",
              "          dataTable['output_type'] = 'display_data';\n",
              "          await google.colab.output.renderOutput(dataTable, element);\n",
              "          const docLink = document.createElement('div');\n",
              "          docLink.innerHTML = docLinkHtml;\n",
              "          element.appendChild(docLink);\n",
              "        }\n",
              "      </script>\n",
              "    </div>\n",
              "  </div>\n",
              "  "
            ]
          },
          "metadata": {},
          "execution_count": 176
        }
      ]
    },
    {
      "cell_type": "markdown",
      "source": [
        "\n",
        "Эти результаты соответствуют ошибке валидации на тестовых данных"
      ],
      "metadata": {
        "id": "OBTikOrp6x9B"
      }
    },
    {
      "cell_type": "markdown",
      "source": [
        "## Сделаем прогноз\n",
        "\n",
        "Прогноз считаем по нейросети с использованием Keras Model.predict и отслеживаем ошибку"
      ],
      "metadata": {
        "id": "wr9G_YLsP72b"
      }
    },
    {
      "cell_type": "code",
      "source": [
        "test_predictions = dnn_model.predict(test_features).flatten()\n",
        "\n",
        "a = plt.axes(aspect='equal')\n",
        "plt.scatter(test_labels, test_predictions)\n",
        "plt.xlabel('Фактические значения [Прочность при растяжении. МПа]')\n",
        "plt.ylabel('Прогноз [Прочность при растяжении. МПа]')\n",
        "lims = [0, 2]\n",
        "plt.xlim(lims)\n",
        "plt.ylim(lims)\n",
        "_ = plt.plot(lims, lims)"
      ],
      "metadata": {
        "colab": {
          "base_uri": "https://localhost:8080/",
          "height": 285
        },
        "id": "Qe8Vqw9AQPJk",
        "outputId": "eadacea9-2861-4b46-e320-4f5a3b471705"
      },
      "execution_count": null,
      "outputs": [
        {
          "output_type": "display_data",
          "data": {
            "text/plain": [
              "<Figure size 432x288 with 1 Axes>"
            ],
            "image/png": "[encoded data removed]"
          },
          "metadata": {
            "needs_background": "light"
          }
        }
      ]
    },
    {
      "cell_type": "markdown",
      "source": [
        "НС предсказывает не очень хорошо.\n",
        "\n",
        "Посмотрим распределение ошибки:"
      ],
      "metadata": {
        "id": "LbqaLSIORQN5"
      }
    },
    {
      "cell_type": "code",
      "source": [
        "error = test_predictions - test_labels\n",
        "plt.hist(error, bins=25)\n",
        "plt.xlabel('Ошибка предсказания [Прочность при растяжении. МПа]')\n",
        "_ = plt.ylabel('Счет')"
      ],
      "metadata": {
        "colab": {
          "base_uri": "https://localhost:8080/",
          "height": 279
        },
        "id": "hB7E1UjIQL7k",
        "outputId": "b9e7f25d-1d9b-4e9e-8129-a35aae99a791"
      },
      "execution_count": null,
      "outputs": [
        {
          "output_type": "display_data",
          "data": {
            "text/plain": [
              "<Figure size 432x288 with 1 Axes>"
            ],
            "image/png": "[encoded data removed]"
          },
          "metadata": {
            "needs_background": "light"
          }
        }
      ]
    },
    {
      "cell_type": "code",
      "source": [
        "from sklearn.ensemble import RandomForestRegressor\n",
        "from sklearn.model_selection import GridSearchCV\n",
        "from sklearn.metrics import r2_score, mean_squared_error, mean_absolute_error\n",
        "from sklearn.model_selection import train_test_split, cross_val_score\n",
        "from sklearn.metrics import classification_report, confusion_matrix, ConfusionMatrixDisplay"
      ],
      "metadata": {
        "id": "UiYlR7yNeOs2"
      },
      "execution_count": null,
      "outputs": []
    },
    {
      "cell_type": "code",
      "source": [
        "train_features = train_dataset.copy()\n",
        "test_features = test_dataset.copy()\n",
        "\n",
        "train_labels = train_features.pop('Прочность при растяжении. МПа')\n",
        "test_labels = test_features.pop('Прочность при растяжении. МПа')"
      ],
      "metadata": {
        "id": "pHtVK5a6fJ2b"
      },
      "execution_count": null,
      "outputs": []
    },
    {
      "cell_type": "markdown",
      "source": [
        "##Поиск гиперпараметров по сетке с перекрестной проверкой GridSearchCV, количество блоков равно 10"
      ],
      "metadata": {
        "id": "5cnNonnoocBe"
      }
    },
    {
      "cell_type": "code",
      "source": [
        "from sklearn.model_selection import StratifiedKFold"
      ],
      "metadata": {
        "id": "NEXghzgizAOj"
      },
      "execution_count": null,
      "outputs": []
    },
    {
      "cell_type": "code",
      "source": [
        ""
      ],
      "metadata": {
        "id": "Egvyuu92zBnq"
      },
      "execution_count": null,
      "outputs": []
    },
    {
      "cell_type": "code",
      "source": [
        "dec_tree = RandomForestRegressor()\n",
        "dec_tree.fit(train_features, train_labels)\n",
        "\n",
        "np.random.seed(42)\n",
        "\n",
        "param_grid = {'max_features': ['auto', 'sqrt', 'log2'],\n",
        "              'ccp_alpha': [0.1, .01, .001],\n",
        "              'max_depth' : [2, 3, 4]\n",
        "             }\n",
        "\n",
        "grid_search = GridSearchCV(estimator=dec_tree, \n",
        "                           param_grid=param_grid, cv=10, verbose=True)\n",
        "grid_search.fit(train_features, train_labels)\n",
        "\n",
        "best_dec_tree = grid_search.best_estimator_"
      ],
      "metadata": {
        "id": "-PD42BR_YY8e",
        "colab": {
          "base_uri": "https://localhost:8080/"
        },
        "outputId": "fe7915ad-d79e-4b3d-bd4f-5d3415d7d3be"
      },
      "execution_count": null,
      "outputs": [
        {
          "output_type": "stream",
          "name": "stdout",
          "text": [
            "Fitting 10 folds for each of 27 candidates, totalling 270 fits\n"
          ]
        }
      ]
    },
    {
      "cell_type": "code",
      "source": [
        "best_dec_tree"
      ],
      "metadata": {
        "id": "mtTU6BH5YdYE",
        "colab": {
          "base_uri": "https://localhost:8080/"
        },
        "outputId": "289894eb-6d3d-47a4-9b63-4574e6b1d729"
      },
      "execution_count": null,
      "outputs": [
        {
          "output_type": "execute_result",
          "data": {
            "text/plain": [
              "RandomForestRegressor(ccp_alpha=0.01, max_depth=2)"
            ]
          },
          "metadata": {},
          "execution_count": 182
        }
      ]
    },
    {
      "cell_type": "code",
      "source": [
        "y_pred = best_dec_tree.predict(test_features)"
      ],
      "metadata": {
        "id": "_PDTme7KYhL-"
      },
      "execution_count": null,
      "outputs": []
    },
    {
      "cell_type": "code",
      "source": [
        "R2 = best_dec_tree.score(test_features, test_labels)\n",
        "MSE = mean_squared_error (test_labels,y_pred)\n",
        "MAE = mean_absolute_error (test_labels,y_pred)\n",
        "print(f'R2: {R2}\\nMSE: {MSE}\\nMAE: {MAE}')"
      ],
      "metadata": {
        "id": "r6K6rk8OYlIj",
        "colab": {
          "base_uri": "https://localhost:8080/"
        },
        "outputId": "aaaa085b-2328-4efd-a268-dbe2fe120861"
      },
      "execution_count": null,
      "outputs": [
        {
          "output_type": "stream",
          "name": "stdout",
          "text": [
            "R2: -0.00015261807453681442\n",
            "MSE: 0.02748876213904787\n",
            "MAE: 0.13122688304408742\n"
          ]
        }
      ]
    },
    {
      "cell_type": "markdown",
      "source": [
        "Сохраним модель "
      ],
      "metadata": {
        "id": "QJQMN0QoRxkV"
      }
    },
    {
      "cell_type": "code",
      "source": [
        "dnn_model.save('dnn_model')"
      ],
      "metadata": {
        "colab": {
          "base_uri": "https://localhost:8080/"
        },
        "id": "6JMi4R1_R2XV",
        "outputId": "2d21a15d-c390-4b89-ff44-6ae90381dc24"
      },
      "execution_count": null,
      "outputs": [
        {
          "output_type": "stream",
          "name": "stdout",
          "text": [
            "INFO:tensorflow:Assets written to: dnn_model/assets\n"
          ]
        }
      ]
    },
    {
      "cell_type": "code",
      "source": [
        "import pickle"
      ],
      "metadata": {
        "id": "vdaPJqZKjLwx"
      },
      "execution_count": null,
      "outputs": []
    },
    {
      "cell_type": "code",
      "source": [
        "pickle.dump(dnn_model, open('dnn_model.pkl', 'wb'))"
      ],
      "metadata": {
        "colab": {
          "base_uri": "https://localhost:8080/"
        },
        "id": "bMUQS2yjkJoN",
        "outputId": "472f44d2-811d-4787-fdff-4de4d4efe10a"
      },
      "execution_count": null,
      "outputs": [
        {
          "output_type": "stream",
          "name": "stdout",
          "text": [
            "INFO:tensorflow:Assets written to: ram://43426155-374b-4539-a174-fd985e1fcf57/assets\n"
          ]
        }
      ]
    },
    {
      "cell_type": "code",
      "source": [
        "model_load=pickle.load(open('dnn_model.pkl', 'rb'))\n",
        "train_features=[1050365]\n",
        "model_load.predict(train_features)"
      ],
      "metadata": {
        "colab": {
          "base_uri": "https://localhost:8080/"
        },
        "id": "wBO7GBohk30-",
        "outputId": "a2d144e2-7c7d-4b02-b40f-2145de82991a"
      },
      "execution_count": null,
      "outputs": [
        {
          "output_type": "stream",
          "name": "stdout",
          "text": [
            "WARNING:tensorflow:Model was constructed with shape (None, None) for input KerasTensor(type_spec=TensorSpec(shape=(None, None), dtype=tf.float32, name='normalization_4_input'), name='normalization_4_input', description=\"created by layer 'normalization_4_input'\"), but it was called on an input with incompatible shape (None,).\n"
          ]
        },
        {
          "output_type": "execute_result",
          "data": {
            "text/plain": [
              "array([[162174.27]], dtype=float32)"
            ]
          },
          "metadata": {},
          "execution_count": 188
        }
      ]
    }
  ]
}